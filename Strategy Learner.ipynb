{
 "cells": [
  {
   "cell_type": "code",
   "execution_count": 1,
   "metadata": {},
   "outputs": [
    {
     "data": {
      "text/html": [
       "<script>\n",
       "code_show=true; \n",
       "function code_toggle() {\n",
       " if (code_show){\n",
       " $('div.input').hide();\n",
       " } else {\n",
       " $('div.input').show();\n",
       " }\n",
       " code_show = !code_show\n",
       "} \n",
       "$( document ).ready(code_toggle);\n",
       "</script>\n",
       "The raw code for this IPython notebook is by default hidden for easier reading.\n",
       "To toggle on/off the raw code, click <a href=\"javascript:code_toggle()\">here</a>."
      ],
      "text/plain": [
       "<IPython.core.display.HTML object>"
      ]
     },
     "execution_count": 1,
     "metadata": {},
     "output_type": "execute_result"
    }
   ],
   "source": [
    "from IPython.display import HTML\n",
    "HTML('''<script>\n",
    "code_show=true; \n",
    "function code_toggle() {\n",
    " if (code_show){\n",
    " $('div.input').hide();\n",
    " } else {\n",
    " $('div.input').show();\n",
    " }\n",
    " code_show = !code_show\n",
    "} \n",
    "$( document ).ready(code_toggle);\n",
    "</script>\n",
    "The raw code for this IPython notebook is by default hidden for easier reading.\n",
    "To toggle on/off the raw code, click <a href=\"javascript:code_toggle()\">here</a>.''')"
   ]
  },
  {
   "cell_type": "code",
   "execution_count": null,
   "metadata": {
    "collapsed": true
   },
   "outputs": [],
   "source": []
  },
  {
   "cell_type": "markdown",
   "metadata": {},
   "source": [
    "# Strategy Learner"
   ]
  },
  {
   "cell_type": "markdown",
   "metadata": {},
   "source": [
    "## Goal"
   ]
  },
  {
   "cell_type": "markdown",
   "metadata": {},
   "source": [
    "The main purpose of this project was to:\n",
    "* Produce a learner that can take raw numerical data for certain stock tickers and \n",
    "* Output a strategy of buy, short or hold at each day\n",
    "* Maximize the 21 day portfolio return over these tickers"
   ]
  },
  {
   "cell_type": "markdown",
   "metadata": {},
   "source": [
    "## Input"
   ]
  },
  {
   "cell_type": "markdown",
   "metadata": {
    "collapsed": true
   },
   "source": [
    "The input we get is a ticker for each CSV, which contains the:\n",
    "* DATE\n",
    "* OPEN\n",
    "* HIGH\n",
    "* LOW\n",
    "* CLOSE\n",
    "* VOL\n",
    "* ADJ CLOSE\n",
    "\n",
    "Below is an example of the input for AAPL(Apple):"
   ]
  },
  {
   "cell_type": "code",
   "execution_count": 11,
   "metadata": {
    "scrolled": true
   },
   "outputs": [
    {
     "name": "stdout",
     "output_type": "stream",
     "text": [
      "            Date    Open    High     Low   Close    Volume  Adj Close\n",
      "0     2012-09-12  666.85  669.90  656.00  669.79  25410600     669.79\n",
      "1     2012-09-11  665.11  670.10  656.50  660.59  17987400     660.59\n",
      "2     2012-09-10  680.45  683.29  662.10  662.74  17428500     662.74\n",
      "3     2012-09-07  678.05  682.48  675.77  680.44  11773800     680.44\n",
      "4     2012-09-06  673.17  678.29  670.80  676.27  13971300     676.27\n",
      "5     2012-09-05  675.57  676.35  669.60  670.23  12013400     670.23\n",
      "6     2012-09-04  665.76  675.14  664.50  674.97  13139000     674.97\n",
      "7     2012-08-31  667.25  668.60  657.25  665.24  12082900     665.24\n",
      "8     2012-08-30  670.64  671.55  662.85  663.87  10810700     663.87\n",
      "9     2012-08-29  675.25  677.67  672.60  673.47   7243100     673.47\n",
      "10    2012-08-28  674.98  676.10  670.67  674.80   9550600     674.80\n",
      "11    2012-08-27  679.99  680.87  673.54  675.68  15250300     675.68\n",
      "12    2012-08-24  659.51  669.48  655.55  663.22  15619300     663.22\n",
      "13    2012-08-23  666.11  669.90  661.15  662.63  15004600     662.63\n",
      "14    2012-08-22  654.42  669.00  648.11  668.87  20190100     668.87\n",
      "15    2012-08-21  670.82  674.88  650.33  656.06  29025700     656.06\n",
      "16    2012-08-20  650.01  665.15  649.90  665.15  21906600     665.15\n",
      "17    2012-08-17  640.00  648.19  638.81  648.11  15812900     648.11\n",
      "18    2012-08-16  631.21  636.76  630.50  636.34   9090500     636.34\n",
      "19    2012-08-15  631.30  634.00  627.75  630.83   9190800     630.83\n",
      "20    2012-08-14  631.87  638.61  630.21  631.69  12148900     631.69\n",
      "21    2012-08-13  623.39  630.00  623.25  630.00   9958300     630.00\n",
      "22    2012-08-10  618.71  621.76  618.70  621.70   6962100     621.70\n",
      "23    2012-08-09  617.85  621.73  617.80  620.73   7915800     620.73\n",
      "24    2012-08-08  619.39  623.88  617.10  619.86   8739500     617.21\n",
      "25    2012-08-07  622.77  625.00  618.04  620.91  10373100     618.26\n",
      "26    2012-08-06  617.29  624.87  615.26  622.55  10789400     619.89\n",
      "27    2012-08-03  613.63  617.98  611.56  615.70  12318600     613.07\n",
      "28    2012-08-02  602.84  610.69  600.25  607.79  11862800     605.19\n",
      "29    2012-08-01  615.91  616.40  603.00  606.81  13732200     604.22\n",
      "...          ...     ...     ...     ...     ...       ...        ...\n",
      "3145  2000-03-14  121.22  124.25  114.00  114.25  15321200      28.44\n",
      "3146  2000-03-13  122.12  126.50  119.50  121.31  10864400      30.20\n",
      "3147  2000-03-10  121.69  127.94  121.00  125.75   8900800      31.30\n",
      "3148  2000-03-09  120.87  125.00  118.25  122.25   9884400      30.43\n",
      "3149  2000-03-08  122.87  123.94  118.56  122.00   9690800      30.37\n",
      "3150  2000-03-07  126.44  127.44  121.12  122.87   9767600      30.59\n",
      "3151  2000-03-06  126.00  129.13  125.00  125.69   7520000      31.29\n",
      "3152  2000-03-03  124.87  128.23  120.00  128.00  11565200      31.86\n",
      "3153  2000-03-02  127.00  127.94  120.69  122.00  11136800      30.37\n",
      "3154  2000-03-01  118.56  132.06  118.50  130.31  38478000      32.44\n",
      "3155  2000-02-29  113.56  117.25  112.56  114.62  13186800      28.53\n",
      "3156  2000-02-28  110.12  115.00  108.37  113.25  11729200      28.19\n",
      "3157  2000-02-25  114.81  117.00  110.12  110.37   8908000      27.47\n",
      "3158  2000-02-24  117.31  119.12  111.75  115.20  13446400      28.68\n",
      "3159  2000-02-23  113.23  119.00  111.00  116.25  16905600      28.94\n",
      "3160  2000-02-22  110.12  116.94  106.69  113.81  15083200      28.33\n",
      "3161  2000-02-18  114.62  115.37  110.87  111.25   8346800      27.69\n",
      "3162  2000-02-17  115.19  115.50  113.12  114.87  10350000      28.59\n",
      "3163  2000-02-16  117.75  118.12  112.12  114.12  13525200      28.41\n",
      "3164  2000-02-15  115.25  119.94  115.19  119.00  17363600      29.62\n",
      "3165  2000-02-14  109.31  115.87  108.62  115.81  13130000      28.83\n",
      "3166  2000-02-11  113.62  114.12  108.25  108.75   7592000      27.07\n",
      "3167  2000-02-10  112.87  113.87  110.00  113.50  10832400      28.25\n",
      "3168  2000-02-09  114.12  117.12  112.44  112.62  10698000      28.03\n",
      "3169  2000-02-08  114.00  116.12  111.25  114.87  14613600      28.59\n",
      "3170  2000-02-07  108.00  114.25  105.94  114.06  15770800      28.39\n",
      "3171  2000-02-04  103.94  110.00  103.62  108.00  15206800      26.88\n",
      "3172  2000-02-03  100.31  104.25  100.25  103.31  16977600      25.72\n",
      "3173  2000-02-02  100.75  102.12   97.00   98.81  16588800      24.60\n",
      "3174  2000-02-01  104.00  105.00  100.00  100.25  11380000      24.96\n",
      "\n",
      "[3175 rows x 7 columns]\n"
     ]
    }
   ],
   "source": [
    "import pandas as pd\n",
    "\n",
    "AAPL = pd.read_csv('data/AAPL.csv')\n",
    "print AAPL"
   ]
  },
  {
   "cell_type": "markdown",
   "metadata": {},
   "source": [
    "## Design Choices"
   ]
  },
  {
   "cell_type": "markdown",
   "metadata": {},
   "source": [
    "I chose to use the Q-Learner that I wrote previously to be the learner for the problem. In doing this I needed to choose:\n",
    "\n",
    "* States\n",
    "* Actions\n",
    "* Rewards\n",
    "\n",
    "The design choices for each of these is detailed below:"
   ]
  },
  {
   "cell_type": "markdown",
   "metadata": {},
   "source": [
    "### Technical Indicators"
   ]
  },
  {
   "cell_type": "markdown",
   "metadata": {},
   "source": [
    "#### Bollinger Bands"
   ]
  },
  {
   "cell_type": "code",
   "execution_count": 8,
   "metadata": {},
   "outputs": [
    {
     "data": {
      "text/latex": [
       "\\begin{align}\n",
       "BB(t) = \\frac{price(t) - SMA_{n}(t)}{stdev(t)}\n",
       "\\end{align}"
      ],
      "text/plain": [
       "<IPython.core.display.Latex object>"
      ]
     },
     "metadata": {},
     "output_type": "display_data"
    }
   ],
   "source": [
    "%%latex\n",
    "\\begin{align}\n",
    "BB(t) = \\frac{price(t) - SMA_{n}(t)}{stdev(t)}\n",
    "\\end{align}"
   ]
  },
  {
   "cell_type": "markdown",
   "metadata": {},
   "source": [
    "#### Momentum"
   ]
  },
  {
   "cell_type": "code",
   "execution_count": 3,
   "metadata": {},
   "outputs": [
    {
     "data": {
      "text/latex": [
       "\\begin{align}\n",
       "momentum_{n}(t) = \\frac{price(t)}{price(t-n)} - 1\n",
       "\\end{align}"
      ],
      "text/plain": [
       "<IPython.core.display.Latex object>"
      ]
     },
     "metadata": {},
     "output_type": "display_data"
    }
   ],
   "source": [
    "%%latex\n",
    "\\begin{align}\n",
    "momentum_{n}(t) = \\frac{price(t)}{price(t-n)} - 1\n",
    "\\end{align}"
   ]
  },
  {
   "cell_type": "markdown",
   "metadata": {},
   "source": [
    "#### Volatility"
   ]
  },
  {
   "cell_type": "code",
   "execution_count": 4,
   "metadata": {},
   "outputs": [
    {
     "data": {
      "text/latex": [
       "\\begin{align}\n",
       "volatility_{n}(t) = stdev_{n}(dr(t))\n",
       "\\end{align}"
      ],
      "text/plain": [
       "<IPython.core.display.Latex object>"
      ]
     },
     "metadata": {},
     "output_type": "display_data"
    }
   ],
   "source": [
    "%%latex\n",
    "\\begin{align}\n",
    "volatility_{n}(t) = stdev_{n}(dr(t))\n",
    "\\end{align}"
   ]
  },
  {
   "cell_type": "markdown",
   "metadata": {},
   "source": [
    "#### Daily Return"
   ]
  },
  {
   "cell_type": "code",
   "execution_count": 6,
   "metadata": {},
   "outputs": [
    {
     "data": {
      "text/latex": [
       "\\begin{align}\n",
       "dr(t) = \\frac{price(t)}{price(t-1)} - 1\n",
       "\\end{align}"
      ],
      "text/plain": [
       "<IPython.core.display.Latex object>"
      ]
     },
     "metadata": {},
     "output_type": "display_data"
    }
   ],
   "source": [
    "%%latex\n",
    "\\begin{align}\n",
    "dr(t) = \\frac{price(t)}{price(t-1)} - 1\n",
    "\\end{align}"
   ]
  },
  {
   "cell_type": "code",
   "execution_count": null,
   "metadata": {
    "collapsed": true
   },
   "outputs": [],
   "source": []
  },
  {
   "cell_type": "markdown",
   "metadata": {},
   "source": [
    "For each the time interval for BB, momentum and the rolling stdev was\n",
    "chosen to be 3. Which was an arbitrary choice that was chosen after\n",
    "trying various values. The value of 3 seemed to work well with the data\n",
    "as it provided a small window for the technical indicators which seemed\n",
    "to work better with the reward of 21 day returns. Had we been looking at\n",
    "returns over longer periods of time it may have been beneficial to\n",
    "likewise increase the time interval."
   ]
  },
  {
   "cell_type": "markdown",
   "metadata": {},
   "source": [
    "Here is a sample of what these indicators look like on the AAPL ticker over a year’s worth of data:"
   ]
  },
  {
   "cell_type": "markdown",
   "metadata": {},
   "source": [
    "![title](figure_1.png)"
   ]
  },
  {
   "cell_type": "markdown",
   "metadata": {},
   "source": [
    "After the indicators were collected they were normalized using the standard normalization, i.e. for each indicator:"
   ]
  },
  {
   "cell_type": "code",
   "execution_count": 10,
   "metadata": {},
   "outputs": [
    {
     "data": {
      "text/latex": [
       "\\begin{align}\n",
       "indicator(t) = \\frac{indicator(t) - indicator_{\\mu}}{indicator_{\\sigma}}\n",
       "\\end{align}"
      ],
      "text/plain": [
       "<IPython.core.display.Latex object>"
      ]
     },
     "metadata": {},
     "output_type": "display_data"
    }
   ],
   "source": [
    "%%latex\n",
    "\\begin{align}\n",
    "indicator(t) = \\frac{indicator(t) - indicator_{\\mu}}{indicator_{\\sigma}}\n",
    "\\end{align}"
   ]
  },
  {
   "cell_type": "markdown",
   "metadata": {},
   "source": [
    "Lastly the reward was filled in where it was nan, with zeros each time which mostly done in an attempt to indicate to the learner than no matter what trading is done here we wont be able to really change the return since the metric is not yet available.\n"
   ]
  },
  {
   "cell_type": "markdown",
   "metadata": {},
   "source": [
    "## Discretization, States and Actions"
   ]
  },
  {
   "cell_type": "markdown",
   "metadata": {},
   "source": [
    "From observation it seemed that the normalized indicators that were computed somewhat followed a standard normal distribution. In order to discretize this a bucket size of .5 was selected and the lower and upper cutoff was designated at 2.6."
   ]
  },
  {
   "cell_type": "markdown",
   "metadata": {},
   "source": [
    "The explicit formulation for changing the normalized indicator into a state value was:"
   ]
  },
  {
   "cell_type": "raw",
   "metadata": {},
   "source": [
    "%%latex\n",
    "\\begin{align}\n",
    "\\frac{indicator + 2.4}{0.5}\n",
    "\\end{align}"
   ]
  },
  {
   "cell_type": "markdown",
   "metadata": {},
   "source": [
    "This value was then converted into an int and for the values I saw this was between 0-9 for most of the indicators values I had, but just in case the values above 9 were capped at 9 and the values below 0 were set to 0. I felt comfortable doing this as the probability that we would get a value above 2.4 or below -2.4 with the assumption of a standard normal is low:"
   ]
  },
  {
   "cell_type": "code",
   "execution_count": 12,
   "metadata": {},
   "outputs": [
    {
     "data": {
      "text/latex": [
       "\\begin{align}\n",
       "\\int_{2.4}^{\\infinity} \\mathcal{N}(0,\\,1) dx = 0.00819754\n",
       "\\end{align}"
      ],
      "text/plain": [
       "<IPython.core.display.Latex object>"
      ]
     },
     "metadata": {},
     "output_type": "display_data"
    }
   ],
   "source": [
    "%%latex\n",
    "\\begin{align}\n",
    "\\int_{2.4}^{\\inf} \\mathcal{N}(0,\\,1) dx = 0.00819754\n",
    "\\end{align}"
   ]
  },
  {
   "cell_type": "markdown",
   "metadata": {},
   "source": [
    "\n",
    "Because we were using three indicators whose values can vary from 0-9, the states are computed by concatenating the digits together which creates an in- teger between 0 - 999, making a 1000 state space."
   ]
  },
  {
   "cell_type": "markdown",
   "metadata": {},
   "source": [
    "For the points at which the indicators were nan I converted this to the average value of the indicators, which was 0 with the normal assumption, this led to the state:"
   ]
  },
  {
   "cell_type": "code",
   "execution_count": 13,
   "metadata": {},
   "outputs": [
    {
     "data": {
      "text/latex": [
       "\\begin{align}\n",
       "\\frac{0 + 2.4}{0.5} = int(4.8) = 4\n",
       "\\end{align}"
      ],
      "text/plain": [
       "<IPython.core.display.Latex object>"
      ]
     },
     "metadata": {},
     "output_type": "display_data"
    }
   ],
   "source": [
    "%%latex\n",
    "\\begin{align}\n",
    "\\frac{0 + 2.4}{0.5} = int(4.8) = 4\n",
    "\\end{align}"
   ]
  },
  {
   "cell_type": "markdown",
   "metadata": {},
   "source": [
    "This was primarily done to attempt to indicate to the algorithm that we didn’t really have much information here.\n",
    "Lastly the actions were encoded as 3 number 0 for sell/short 1 for hold or 2 for buy. The holdings were assigned appropriately based on these actions."
   ]
  },
  {
   "cell_type": "markdown",
   "metadata": {},
   "source": [
    "## Learning"
   ]
  },
  {
   "cell_type": "markdown",
   "metadata": {},
   "source": [
    "Learning was done by feeding each new state to the Qlearner and computing the reward based on the action the learner returned, the daily return and the current holding. More specifically the reward was computed as:"
   ]
  },
  {
   "cell_type": "code",
   "execution_count": 18,
   "metadata": {},
   "outputs": [
    {
     "data": {
      "text/latex": [
       "\\begin{align}\n",
       "r = holding * dr(t), \\ holding = \\{-200, 0, 200\\}\n",
       "\\end{align}"
      ],
      "text/plain": [
       "<IPython.core.display.Latex object>"
      ]
     },
     "metadata": {},
     "output_type": "display_data"
    }
   ],
   "source": [
    "%%latex\n",
    "\\begin{align}\n",
    "r = holding * dr(t), \\ holding = \\{-200, 0, 200\\}\n",
    "\\end{align}"
   ]
  },
  {
   "cell_type": "markdown",
   "metadata": {},
   "source": [
    "This was done instead of the more complex portfolio computation for each day because the only thing we really cared about was the trades, the cash we had was dependent on the trades we made. One can see that the multiplication takes care of the various cases, if you short and the price goes down then you get positive reward, likewise for long and an increase in price you get a positive reward. On the other-hand you get a negative or no reward for a trade when the price went the opposite direction of your holding or if you just held onto it."
   ]
  },
  {
   "cell_type": "markdown",
   "metadata": {},
   "source": [
    "There is one more distinction between my calculation and the portfolio com- putation, the cost of making a trade wasn’t taken into account in computing the reward. Taking this into account would have likely refined the learner a little bit, but since the holdings were done in 200 increments, a $9.95 transaction fee would likely not have affected the reward that much. This was observed empirically as the learner was still able to hit all of the benchmarks."
   ]
  },
  {
   "cell_type": "markdown",
   "metadata": {},
   "source": [
    "Lastly the learner ensured that the rules of the trades were met in that when the Qlearner attempted to put itself in a position that was illegal the holdings did not change and the reward only changed by whatever the daily return was. In other words it got the same rewards as if it had done nothing."
   ]
  },
  {
   "cell_type": "markdown",
   "metadata": {},
   "source": [
    "The same indicators and states were computed as during learning and all of these states were looped through. The actions returned by the Qlearner were entered into the trades data-frame as long as they did not put us into an illegal position."
   ]
  },
  {
   "cell_type": "markdown",
   "metadata": {},
   "source": [
    "## Hyper-Parameters Experiments"
   ]
  },
  {
   "cell_type": "markdown",
   "metadata": {},
   "source": [
    "### Normalization"
   ]
  },
  {
   "cell_type": "markdown",
   "metadata": {},
   "source": [
    "The first experiment I conducted was with normalizing the data. Initially I did not normalize the data and after attempting to change almost every hyper- parameter in the Qlearner I finally tried normalizing the indicators. Below\n",
    "3 is a table the describes how many of the test cases past with respect to the normalization:"
   ]
  },
  {
   "cell_type": "markdown",
   "metadata": {},
   "source": [
    "![title](figure_2.png)"
   ]
  },
  {
   "cell_type": "markdown",
   "metadata": {},
   "source": [
    "The reason that normalization mattered so much is due to the fact that without it the states for training and testing were widely different. In addition, using time series statistics for normalization with a window size equal to the window size of the indicators did not perform that well since the SMA or rolling Stdev couldnt properly capture these values for the whole period. Instead by using the global statistics the information encoded in the training state space could be transferred to the testing state space."
   ]
  },
  {
   "cell_type": "markdown",
   "metadata": {},
   "source": [
    "## Epochs, rar, alpha"
   ]
  },
  {
   "cell_type": "markdown",
   "metadata": {},
   "source": [
    "These were some of the hyper-parameters that I thought would affect the learner in a significantly different way than it did. Varying number of Epochs along with rar and α had almost no major change to the number of tests or % over benchmark score. For each table the other two parameters were held constant at either their default value of 1500 for epochs. The results are summarized below:"
   ]
  },
  {
   "cell_type": "markdown",
   "metadata": {},
   "source": [
    "![title](figure_3.png)"
   ]
  },
  {
   "cell_type": "code",
   "execution_count": null,
   "metadata": {
    "collapsed": true
   },
   "outputs": [],
   "source": []
  }
 ],
 "metadata": {
  "kernelspec": {
   "display_name": "Python 3",
   "language": "python",
   "name": "python3"
  },
  "language_info": {
   "codemirror_mode": {
    "name": "ipython",
    "version": 3
   },
   "file_extension": ".py",
   "mimetype": "text/x-python",
   "name": "python",
   "nbconvert_exporter": "python",
   "pygments_lexer": "ipython3",
   "version": "3.8.3"
  }
 },
 "nbformat": 4,
 "nbformat_minor": 2
}
